{
 "cells": [
  {
   "cell_type": "markdown",
   "metadata": {},
   "source": [
    "## Hypothesis Test\n",
    "\n",
    "We now proceed to test our hypothesis that the distance between a pair of articles on the Wikipedia graph is correlated with the semantic similarity between the titles of the articles. \n",
    "\n",
    "A slight issue is presented by the fact that Wikipedia distance is directional, whereas the semantic similarity is not. As a result, it's possible that the distance from article $A$ to article $B$ may differ from the distance from article $B$ to article $A$. Because the direction of a pair of articles is sampled randomly, there is no bias introduced by this unidirectional sample, so it's acceptable to compare only one direction's distance to the semantic similarity."
   ]
  },
  {
   "cell_type": "code",
   "execution_count": 2,
   "metadata": {},
   "outputs": [
    {
     "name": "stdout",
     "output_type": "stream",
     "text": [
      "(0.9999999999999999, 1.1102230246251565e-16)\n"
     ]
    }
   ],
   "source": [
    "from scipy.stats import spearmanr\n",
    "\n",
    "distances = [1, 5, 2, 7]\n",
    "similarities = [0.1, 0.5, 0.2, 0.7]\n",
    "\n",
    "print(spearmanr(distances, similarities))"
   ]
  }
 ],
 "metadata": {
  "interpreter": {
   "hash": "1e2fb55ce3ba7edc412ba99b65bef8ec72014315396090037bd7379c5f5b7e46"
  },
  "kernelspec": {
   "display_name": "Python 3.9.7 ('pythonProject')",
   "language": "python",
   "name": "python3"
  },
  "language_info": {
   "codemirror_mode": {
    "name": "ipython",
    "version": 3
   },
   "file_extension": ".py",
   "mimetype": "text/x-python",
   "name": "python",
   "nbconvert_exporter": "python",
   "pygments_lexer": "ipython3",
   "version": "3.9.7"
  },
  "orig_nbformat": 4
 },
 "nbformat": 4,
 "nbformat_minor": 2
}
